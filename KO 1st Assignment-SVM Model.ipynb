{
 "cells": [
  {
   "cell_type": "code",
   "execution_count": 2,
   "metadata": {},
   "outputs": [],
   "source": [
    "import json\n",
    "import numpy as np\n",
    "import pandas as pd\n",
    "import matplotlib.pyplot as plt\n",
    "%matplotlib inline\n",
    "import nltk\n",
    "import re\n",
    "from nltk.corpus import stopwords\n",
    "from nltk.stem import WordNetLemmatizer \n",
    "from nltk.tokenize import word_tokenize \n",
    "from nltk.tokenize import RegexpTokenizer\n",
    "from sklearn import preprocessing\n",
    "from nltk.corpus import stopwords\n",
    "from sklearn.feature_extraction.text import TfidfVectorizer\n",
    "from sklearn.feature_selection import SelectKBest\n",
    "from sklearn.svm import LinearSVC\n",
    "from sklearn.ensemble import VotingClassifier\n",
    "from sklearn.feature_extraction.text import TfidfVectorizer\n",
    "from sklearn.feature_selection import chi2\n",
    "from sklearn.model_selection import train_test_split\n",
    "from sklearn.naive_bayes import GaussianNB\n",
    "from sklearn.ensemble import VotingClassifier\n",
    "import seaborn as sns"
   ]
  },
  {
   "cell_type": "markdown",
   "metadata": {},
   "source": [
    "# Importing and Reading data"
   ]
  },
  {
   "cell_type": "code",
   "execution_count": 3,
   "metadata": {},
   "outputs": [],
   "source": [
    "with open('articles.json', 'r') as myfile:\n",
    "    data=myfile.read()"
   ]
  },
  {
   "cell_type": "code",
   "execution_count": 4,
   "metadata": {},
   "outputs": [],
   "source": [
    "data = json.loads(data)"
   ]
  },
  {
   "cell_type": "code",
   "execution_count": 5,
   "metadata": {},
   "outputs": [
    {
     "data": {
      "text/html": [
       "<div>\n",
       "<style scoped>\n",
       "    .dataframe tbody tr th:only-of-type {\n",
       "        vertical-align: middle;\n",
       "    }\n",
       "\n",
       "    .dataframe tbody tr th {\n",
       "        vertical-align: top;\n",
       "    }\n",
       "\n",
       "    .dataframe thead th {\n",
       "        text-align: right;\n",
       "    }\n",
       "</style>\n",
       "<table border=\"1\" class=\"dataframe\">\n",
       "  <thead>\n",
       "    <tr style=\"text-align: right;\">\n",
       "      <th></th>\n",
       "      <th>body</th>\n",
       "      <th>title</th>\n",
       "      <th>category</th>\n",
       "    </tr>\n",
       "  </thead>\n",
       "  <tbody>\n",
       "    <tr>\n",
       "      <th>0</th>\n",
       "      <td>Protecting Netflix Viewing Privacy at Scale\\r\\...</td>\n",
       "      <td>Protecting Netflix Viewing Privacy at Scale</td>\n",
       "      <td>Engineering</td>\n",
       "    </tr>\n",
       "    <tr>\n",
       "      <th>1</th>\n",
       "      <td>Introducing Winston — Event driven Diagnostic ...</td>\n",
       "      <td>Introducing Winston - Event driven Diagnostic ...</td>\n",
       "      <td>Engineering</td>\n",
       "    </tr>\n",
       "    <tr>\n",
       "      <th>2</th>\n",
       "      <td>Performance &amp; Usage at Instagram\\r\\n\\r\\nAt Ins...</td>\n",
       "      <td>Performance &amp; Usage at Instagram</td>\n",
       "      <td>Engineering</td>\n",
       "    </tr>\n",
       "    <tr>\n",
       "      <th>3</th>\n",
       "      <td>The simple example of calculating and formatti...</td>\n",
       "      <td>Refactoring a javascript video store</td>\n",
       "      <td>Engineering</td>\n",
       "    </tr>\n",
       "    <tr>\n",
       "      <th>4</th>\n",
       "      <td>Billing applications have transactions that ne...</td>\n",
       "      <td>Netflix Billing Migration to AWS - Part III</td>\n",
       "      <td>Engineering</td>\n",
       "    </tr>\n",
       "    <tr>\n",
       "      <th>...</th>\n",
       "      <td>...</td>\n",
       "      <td>...</td>\n",
       "      <td>...</td>\n",
       "    </tr>\n",
       "    <tr>\n",
       "      <th>2476</th>\n",
       "      <td>At the Early Stage, Focus on Unit Economic Pro...</td>\n",
       "      <td>At the Early Stage, Focus on Unit Economic Pro...</td>\n",
       "      <td>Startups &amp; Business</td>\n",
       "    </tr>\n",
       "    <tr>\n",
       "      <th>2477</th>\n",
       "      <td>5 Tips to Nail a Successful Product Launch\\n\\n...</td>\n",
       "      <td>5 Tips to Nail a Successful Product Launch</td>\n",
       "      <td>Startups &amp; Business</td>\n",
       "    </tr>\n",
       "    <tr>\n",
       "      <th>2478</th>\n",
       "      <td>Routes to Defensibility for your AI Startup\\n\\...</td>\n",
       "      <td>Routes to Defensibility for your AI Startup</td>\n",
       "      <td>Engineering</td>\n",
       "    </tr>\n",
       "    <tr>\n",
       "      <th>2479</th>\n",
       "      <td>Faster. Faster. Faster.\\r\\n\\r\\nI’d like to tal...</td>\n",
       "      <td>Faster. Faster. Faster.</td>\n",
       "      <td>Product &amp; Design</td>\n",
       "    </tr>\n",
       "    <tr>\n",
       "      <th>2480</th>\n",
       "      <td>Netflix is a place where people win. They exce...</td>\n",
       "      <td>Humans Hate Being Spun: How to Practice Radica...</td>\n",
       "      <td>Startups &amp; Business</td>\n",
       "    </tr>\n",
       "  </tbody>\n",
       "</table>\n",
       "<p>2481 rows × 3 columns</p>\n",
       "</div>"
      ],
      "text/plain": [
       "                                                   body  \\\n",
       "0     Protecting Netflix Viewing Privacy at Scale\\r\\...   \n",
       "1     Introducing Winston — Event driven Diagnostic ...   \n",
       "2     Performance & Usage at Instagram\\r\\n\\r\\nAt Ins...   \n",
       "3     The simple example of calculating and formatti...   \n",
       "4     Billing applications have transactions that ne...   \n",
       "...                                                 ...   \n",
       "2476  At the Early Stage, Focus on Unit Economic Pro...   \n",
       "2477  5 Tips to Nail a Successful Product Launch\\n\\n...   \n",
       "2478  Routes to Defensibility for your AI Startup\\n\\...   \n",
       "2479  Faster. Faster. Faster.\\r\\n\\r\\nI’d like to tal...   \n",
       "2480  Netflix is a place where people win. They exce...   \n",
       "\n",
       "                                                  title             category  \n",
       "0           Protecting Netflix Viewing Privacy at Scale          Engineering  \n",
       "1     Introducing Winston - Event driven Diagnostic ...          Engineering  \n",
       "2                      Performance & Usage at Instagram          Engineering  \n",
       "3                  Refactoring a javascript video store          Engineering  \n",
       "4           Netflix Billing Migration to AWS - Part III          Engineering  \n",
       "...                                                 ...                  ...  \n",
       "2476  At the Early Stage, Focus on Unit Economic Pro...  Startups & Business  \n",
       "2477         5 Tips to Nail a Successful Product Launch  Startups & Business  \n",
       "2478        Routes to Defensibility for your AI Startup          Engineering  \n",
       "2479                            Faster. Faster. Faster.     Product & Design  \n",
       "2480  Humans Hate Being Spun: How to Practice Radica...  Startups & Business  \n",
       "\n",
       "[2481 rows x 3 columns]"
      ]
     },
     "execution_count": 5,
     "metadata": {},
     "output_type": "execute_result"
    }
   ],
   "source": [
    "df = pd.read_json('articles.json')\n",
    "df"
   ]
  },
  {
   "cell_type": "code",
   "execution_count": 6,
   "metadata": {},
   "outputs": [
    {
     "data": {
      "text/plain": [
       "(2481, 3)"
      ]
     },
     "execution_count": 6,
     "metadata": {},
     "output_type": "execute_result"
    }
   ],
   "source": [
    "df.shape"
   ]
  },
  {
   "cell_type": "code",
   "execution_count": 7,
   "metadata": {},
   "outputs": [
    {
     "data": {
      "text/plain": [
       "array(['Engineering', 'Startups & Business', 'Product & Design'],\n",
       "      dtype=object)"
      ]
     },
     "execution_count": 7,
     "metadata": {},
     "output_type": "execute_result"
    }
   ],
   "source": [
    "df['category'].unique()"
   ]
  },
  {
   "cell_type": "code",
   "execution_count": 8,
   "metadata": {},
   "outputs": [
    {
     "data": {
      "text/plain": [
       "body        0\n",
       "title       0\n",
       "category    0\n",
       "dtype: int64"
      ]
     },
     "execution_count": 8,
     "metadata": {},
     "output_type": "execute_result"
    }
   ],
   "source": [
    "# Check null \n",
    "df.isnull().sum()"
   ]
  },
  {
   "cell_type": "code",
   "execution_count": 9,
   "metadata": {},
   "outputs": [
    {
     "data": {
      "image/png": "[encoded data removed]",
      "text/plain": [
       "<Figure size 432x288 with 1 Axes>"
      ]
     },
     "metadata": {
      "needs_background": "light"
     },
     "output_type": "display_data"
    }
   ],
   "source": [
    "df['category'].value_counts().plot(kind='barh')\n",
    "plt.show()"
   ]
  },
  {
   "cell_type": "code",
   "execution_count": 10,
   "metadata": {},
   "outputs": [],
   "source": [
    "#import data\n",
    "#exploring data\n",
    "#transformin data into information:\n",
    "\n",
    "#remove stop words\n",
    "#check the most common words\n",
    "#tokenization\n",
    "\n",
    "#Vectorization\n",
    "\n",
    "# Model Selection"
   ]
  },
  {
   "cell_type": "markdown",
   "metadata": {},
   "source": [
    "## Tokenization"
   ]
  },
  {
   "cell_type": "code",
   "execution_count": 11,
   "metadata": {},
   "outputs": [
    {
     "name": "stderr",
     "output_type": "stream",
     "text": [
      "[nltk_data] Downloading package punkt to\n",
      "[nltk_data]     C:\\Users\\Laptop\\AppData\\Roaming\\nltk_data...\n",
      "[nltk_data]   Package punkt is already up-to-date!\n",
      "[nltk_data] Downloading package wordnet to\n",
      "[nltk_data]     C:\\Users\\Laptop\\AppData\\Roaming\\nltk_data...\n",
      "[nltk_data]   Package wordnet is already up-to-date!\n"
     ]
    },
    {
     "data": {
      "text/plain": [
       "True"
      ]
     },
     "execution_count": 11,
     "metadata": {},
     "output_type": "execute_result"
    }
   ],
   "source": [
    "nltk.download('punkt')\n",
    "nltk.download('wordnet')"
   ]
  },
  {
   "cell_type": "code",
   "execution_count": 12,
   "metadata": {},
   "outputs": [
    {
     "data": {
      "text/html": [
       "<div>\n",
       "<style scoped>\n",
       "    .dataframe tbody tr th:only-of-type {\n",
       "        vertical-align: middle;\n",
       "    }\n",
       "\n",
       "    .dataframe tbody tr th {\n",
       "        vertical-align: top;\n",
       "    }\n",
       "\n",
       "    .dataframe thead th {\n",
       "        text-align: right;\n",
       "    }\n",
       "</style>\n",
       "<table border=\"1\" class=\"dataframe\">\n",
       "  <thead>\n",
       "    <tr style=\"text-align: right;\">\n",
       "      <th></th>\n",
       "      <th>body</th>\n",
       "      <th>title</th>\n",
       "      <th>category</th>\n",
       "    </tr>\n",
       "  </thead>\n",
       "  <tbody>\n",
       "    <tr>\n",
       "      <th>0</th>\n",
       "      <td>protecting netflix viewing privacy at scale\\r\\...</td>\n",
       "      <td>protecting netflix viewing privacy at scale</td>\n",
       "      <td>Engineering</td>\n",
       "    </tr>\n",
       "    <tr>\n",
       "      <th>1</th>\n",
       "      <td>introducing winston — event driven diagnostic ...</td>\n",
       "      <td>introducing winston - event driven diagnostic ...</td>\n",
       "      <td>Engineering</td>\n",
       "    </tr>\n",
       "    <tr>\n",
       "      <th>2</th>\n",
       "      <td>performance &amp; usage at instagram\\r\\n\\r\\nat ins...</td>\n",
       "      <td>performance &amp; usage at instagram</td>\n",
       "      <td>Engineering</td>\n",
       "    </tr>\n",
       "    <tr>\n",
       "      <th>3</th>\n",
       "      <td>the simple example of calculating and formatti...</td>\n",
       "      <td>refactoring a javascript video store</td>\n",
       "      <td>Engineering</td>\n",
       "    </tr>\n",
       "    <tr>\n",
       "      <th>4</th>\n",
       "      <td>billing applications have transactions that ne...</td>\n",
       "      <td>netflix billing migration to aws - part iii</td>\n",
       "      <td>Engineering</td>\n",
       "    </tr>\n",
       "  </tbody>\n",
       "</table>\n",
       "</div>"
      ],
      "text/plain": [
       "                                                body  \\\n",
       "0  protecting netflix viewing privacy at scale\\r\\...   \n",
       "1  introducing winston — event driven diagnostic ...   \n",
       "2  performance & usage at instagram\\r\\n\\r\\nat ins...   \n",
       "3  the simple example of calculating and formatti...   \n",
       "4  billing applications have transactions that ne...   \n",
       "\n",
       "                                               title     category  \n",
       "0        protecting netflix viewing privacy at scale  Engineering  \n",
       "1  introducing winston - event driven diagnostic ...  Engineering  \n",
       "2                   performance & usage at instagram  Engineering  \n",
       "3               refactoring a javascript video store  Engineering  \n",
       "4        netflix billing migration to aws - part iii  Engineering  "
      ]
     },
     "execution_count": 12,
     "metadata": {},
     "output_type": "execute_result"
    }
   ],
   "source": [
    "df[\"title\"]=df[\"title\"].str.lower() \n",
    "df[\"body\"]=df[\"body\"].str.lower() \n",
    "df.head()"
   ]
  },
  {
   "cell_type": "code",
   "execution_count": 13,
   "metadata": {},
   "outputs": [
    {
     "data": {
      "text/html": [
       "<div>\n",
       "<style scoped>\n",
       "    .dataframe tbody tr th:only-of-type {\n",
       "        vertical-align: middle;\n",
       "    }\n",
       "\n",
       "    .dataframe tbody tr th {\n",
       "        vertical-align: top;\n",
       "    }\n",
       "\n",
       "    .dataframe thead th {\n",
       "        text-align: right;\n",
       "    }\n",
       "</style>\n",
       "<table border=\"1\" class=\"dataframe\">\n",
       "  <thead>\n",
       "    <tr style=\"text-align: right;\">\n",
       "      <th></th>\n",
       "      <th>body</th>\n",
       "      <th>title</th>\n",
       "      <th>category</th>\n",
       "    </tr>\n",
       "  </thead>\n",
       "  <tbody>\n",
       "    <tr>\n",
       "      <th>0</th>\n",
       "      <td>[protecting, netflix, viewing, privacy, at, sc...</td>\n",
       "      <td>protecting netflix viewing privacy at scale</td>\n",
       "      <td>Engineering</td>\n",
       "    </tr>\n",
       "    <tr>\n",
       "      <th>1</th>\n",
       "      <td>[introducing, winston, —, event, driven, diagn...</td>\n",
       "      <td>introducing winston - event driven diagnostic ...</td>\n",
       "      <td>Engineering</td>\n",
       "    </tr>\n",
       "    <tr>\n",
       "      <th>2</th>\n",
       "      <td>[performance, &amp;, usage, at, instagram, at, ins...</td>\n",
       "      <td>performance &amp; usage at instagram</td>\n",
       "      <td>Engineering</td>\n",
       "    </tr>\n",
       "    <tr>\n",
       "      <th>3</th>\n",
       "      <td>[the, simple, example, of, calculating, and, f...</td>\n",
       "      <td>refactoring a javascript video store</td>\n",
       "      <td>Engineering</td>\n",
       "    </tr>\n",
       "    <tr>\n",
       "      <th>4</th>\n",
       "      <td>[billing, applications, have, transactions, th...</td>\n",
       "      <td>netflix billing migration to aws - part iii</td>\n",
       "      <td>Engineering</td>\n",
       "    </tr>\n",
       "  </tbody>\n",
       "</table>\n",
       "</div>"
      ],
      "text/plain": [
       "                                                body  \\\n",
       "0  [protecting, netflix, viewing, privacy, at, sc...   \n",
       "1  [introducing, winston, —, event, driven, diagn...   \n",
       "2  [performance, &, usage, at, instagram, at, ins...   \n",
       "3  [the, simple, example, of, calculating, and, f...   \n",
       "4  [billing, applications, have, transactions, th...   \n",
       "\n",
       "                                               title     category  \n",
       "0        protecting netflix viewing privacy at scale  Engineering  \n",
       "1  introducing winston - event driven diagnostic ...  Engineering  \n",
       "2                   performance & usage at instagram  Engineering  \n",
       "3               refactoring a javascript video store  Engineering  \n",
       "4        netflix billing migration to aws - part iii  Engineering  "
      ]
     },
     "execution_count": 13,
     "metadata": {},
     "output_type": "execute_result"
    }
   ],
   "source": [
    "#tokenization of words\n",
    "df['body'] = df.apply(lambda row: word_tokenize(row['body']), axis=1) \n",
    "df.head()"
   ]
  },
  {
   "cell_type": "code",
   "execution_count": 14,
   "metadata": {},
   "outputs": [],
   "source": [
    "#only alphanumerical values\n",
    "df['body'] = df['body'].apply(lambda x: [item for item in x if item.isalpha()]) "
   ]
  },
  {
   "cell_type": "code",
   "execution_count": 15,
   "metadata": {},
   "outputs": [],
   "source": [
    "#lemmatazing words\n",
    "df['body'] = df['body'].apply(lambda x : [WordNetLemmatizer().lemmatize(y) for y in x])"
   ]
  },
  {
   "cell_type": "code",
   "execution_count": 16,
   "metadata": {},
   "outputs": [
    {
     "data": {
      "text/html": [
       "<div>\n",
       "<style scoped>\n",
       "    .dataframe tbody tr th:only-of-type {\n",
       "        vertical-align: middle;\n",
       "    }\n",
       "\n",
       "    .dataframe tbody tr th {\n",
       "        vertical-align: top;\n",
       "    }\n",
       "\n",
       "    .dataframe thead th {\n",
       "        text-align: right;\n",
       "    }\n",
       "</style>\n",
       "<table border=\"1\" class=\"dataframe\">\n",
       "  <thead>\n",
       "    <tr style=\"text-align: right;\">\n",
       "      <th></th>\n",
       "      <th>body</th>\n",
       "      <th>title</th>\n",
       "      <th>category</th>\n",
       "    </tr>\n",
       "  </thead>\n",
       "  <tbody>\n",
       "    <tr>\n",
       "      <th>0</th>\n",
       "      <td>[protecting, netflix, viewing, privacy, scale,...</td>\n",
       "      <td>protecting netflix viewing privacy at scale</td>\n",
       "      <td>Engineering</td>\n",
       "    </tr>\n",
       "    <tr>\n",
       "      <th>1</th>\n",
       "      <td>[introducing, winston, event, driven, diagnost...</td>\n",
       "      <td>introducing winston - event driven diagnostic ...</td>\n",
       "      <td>Engineering</td>\n",
       "    </tr>\n",
       "    <tr>\n",
       "      <th>2</th>\n",
       "      <td>[performance, usage, instagram, instagram, tre...</td>\n",
       "      <td>performance &amp; usage at instagram</td>\n",
       "      <td>Engineering</td>\n",
       "    </tr>\n",
       "    <tr>\n",
       "      <th>3</th>\n",
       "      <td>[simple, example, calculating, formatting, bil...</td>\n",
       "      <td>refactoring a javascript video store</td>\n",
       "      <td>Engineering</td>\n",
       "    </tr>\n",
       "    <tr>\n",
       "      <th>4</th>\n",
       "      <td>[billing, application, transaction, acid, comp...</td>\n",
       "      <td>netflix billing migration to aws - part iii</td>\n",
       "      <td>Engineering</td>\n",
       "    </tr>\n",
       "  </tbody>\n",
       "</table>\n",
       "</div>"
      ],
      "text/plain": [
       "                                                body  \\\n",
       "0  [protecting, netflix, viewing, privacy, scale,...   \n",
       "1  [introducing, winston, event, driven, diagnost...   \n",
       "2  [performance, usage, instagram, instagram, tre...   \n",
       "3  [simple, example, calculating, formatting, bil...   \n",
       "4  [billing, application, transaction, acid, comp...   \n",
       "\n",
       "                                               title     category  \n",
       "0        protecting netflix viewing privacy at scale  Engineering  \n",
       "1  introducing winston - event driven diagnostic ...  Engineering  \n",
       "2                   performance & usage at instagram  Engineering  \n",
       "3               refactoring a javascript video store  Engineering  \n",
       "4        netflix billing migration to aws - part iii  Engineering  "
      ]
     },
     "execution_count": 16,
     "metadata": {},
     "output_type": "execute_result"
    }
   ],
   "source": [
    "#removing stopwords\n",
    "stop = stopwords.words('english')\n",
    "df['body'] =df['body'].apply(lambda x: [item for item in x if item not in stop])\n",
    "df.head()"
   ]
  },
  {
   "cell_type": "markdown",
   "metadata": {},
   "source": [
    "### Printing the most common data in every label"
   ]
  },
  {
   "cell_type": "code",
   "execution_count": 17,
   "metadata": {},
   "outputs": [
    {
     "data": {
      "text/plain": [
       "[('data', 5653),\n",
       " ('time', 2899),\n",
       " ('code', 2797),\n",
       " ('system', 2766),\n",
       " ('service', 2471),\n",
       " ('user', 2410),\n",
       " ('application', 2407),\n",
       " ('function', 2058),\n",
       " ('example', 1924),\n",
       " ('model', 1886),\n",
       " ('database', 1752),\n",
       " ('team', 1694),\n",
       " ('server', 1612),\n",
       " ('change', 1529),\n",
       " ('network', 1424),\n",
       " ('test', 1346),\n",
       " ('component', 1341),\n",
       " ('result', 1326),\n",
       " ('learning', 1305),\n",
       " ('request', 1298),\n",
       " ('process', 1296),\n",
       " ('feature', 1273),\n",
       " ('value', 1220),\n",
       " ('set', 1157),\n",
       " ('run', 1107)]"
      ]
     },
     "execution_count": 17,
     "metadata": {},
     "output_type": "execute_result"
    }
   ],
   "source": [
    "from collections import Counter\n",
    "all_words = [word for tokens in df[df['category']=='Engineering']['body'] for word in tokens]\n",
    "counter = Counter(all_words)\n",
    "counter.most_common(25)"
   ]
  },
  {
   "cell_type": "code",
   "execution_count": 18,
   "metadata": {},
   "outputs": [
    {
     "data": {
      "text/plain": [
       "[('company', 9867),\n",
       " ('product', 7080),\n",
       " ('people', 6938),\n",
       " ('team', 6425),\n",
       " ('customer', 6013),\n",
       " ('time', 5811),\n",
       " ('business', 4350),\n",
       " ('startup', 4336),\n",
       " ('user', 2945),\n",
       " ('help', 2548),\n",
       " ('email', 2540),\n",
       " ('growth', 2473),\n",
       " ('founder', 2426),\n",
       " ('value', 2336),\n",
       " ('sale', 2310),\n",
       " ('marketing', 2271),\n",
       " ('investor', 2258),\n",
       " ('question', 2163),\n",
       " ('idea', 2128),\n",
       " ('market', 2114),\n",
       " ('process', 2107),\n",
       " ('day', 2060),\n",
       " ('example', 2012),\n",
       " ('data', 2012),\n",
       " ('start', 2008)]"
      ]
     },
     "execution_count": 18,
     "metadata": {},
     "output_type": "execute_result"
    }
   ],
   "source": [
    "all_words= [word for tokens in df[df['category']=='Startups & Business']['body'] for word in tokens]\n",
    "counter = Counter(all_words)\n",
    "counter.most_common(25)"
   ]
  },
  {
   "cell_type": "code",
   "execution_count": 19,
   "metadata": {},
   "outputs": [
    {
     "data": {
      "text/plain": [
       "[('product', 11829),\n",
       " ('user', 6311),\n",
       " ('design', 4939),\n",
       " ('team', 4537),\n",
       " ('customer', 4435),\n",
       " ('people', 3578),\n",
       " ('time', 3200),\n",
       " ('company', 2730),\n",
       " ('feature', 2127),\n",
       " ('experience', 2103),\n",
       " ('designer', 1880),\n",
       " ('help', 1831),\n",
       " ('manager', 1787),\n",
       " ('process', 1717),\n",
       " ('business', 1581),\n",
       " ('idea', 1495),\n",
       " ('data', 1468),\n",
       " ('build', 1452),\n",
       " ('example', 1422),\n",
       " ('value', 1399),\n",
       " ('question', 1286),\n",
       " ('lot', 1235),\n",
       " ('feedback', 1235),\n",
       " ('project', 1224),\n",
       " ('app', 1214)]"
      ]
     },
     "execution_count": 19,
     "metadata": {},
     "output_type": "execute_result"
    }
   ],
   "source": [
    "all_words= [word for tokens in df[df['category']=='Product & Design']['body'] for word in tokens]\n",
    "counter = Counter(all_words)\n",
    "counter.most_common(25)"
   ]
  },
  {
   "cell_type": "markdown",
   "metadata": {},
   "source": [
    "## Divide dataset to train,validate, test"
   ]
  },
  {
   "cell_type": "code",
   "execution_count": 20,
   "metadata": {},
   "outputs": [],
   "source": [
    "train, validate, test = \\\n",
    "              np.split(df.sample(frac=1, random_state=42), \n",
    "                       [int(.6*len(df)), int(.8*len(df))])"
   ]
  },
  {
   "cell_type": "code",
   "execution_count": 21,
   "metadata": {},
   "outputs": [
    {
     "data": {
      "text/plain": [
       "(1488, 3)"
      ]
     },
     "execution_count": 21,
     "metadata": {},
     "output_type": "execute_result"
    }
   ],
   "source": [
    "train.shape"
   ]
  },
  {
   "cell_type": "code",
   "execution_count": 22,
   "metadata": {},
   "outputs": [
    {
     "data": {
      "text/plain": [
       "(496, 3)"
      ]
     },
     "execution_count": 22,
     "metadata": {},
     "output_type": "execute_result"
    }
   ],
   "source": [
    "validate.shape"
   ]
  },
  {
   "cell_type": "code",
   "execution_count": 23,
   "metadata": {},
   "outputs": [
    {
     "data": {
      "text/plain": [
       "(497, 3)"
      ]
     },
     "execution_count": 23,
     "metadata": {},
     "output_type": "execute_result"
    }
   ],
   "source": [
    "test.shape"
   ]
  },
  {
   "cell_type": "code",
   "execution_count": 24,
   "metadata": {},
   "outputs": [],
   "source": [
    "df = pd.concat([train, validate])"
   ]
  },
  {
   "cell_type": "markdown",
   "metadata": {},
   "source": [
    "# Feature Extraction "
   ]
  },
  {
   "cell_type": "code",
   "execution_count": 25,
   "metadata": {},
   "outputs": [],
   "source": [
    "word_vectorizer_uni = TfidfVectorizer(\n",
    "    sublinear_tf=True,\n",
    "    strip_accents='unicode',\n",
    "    analyzer='word',\n",
    "    token_pattern=r'\\w{1,}',\n",
    "    ngram_range=(1, 2),\n",
    "    max_features =7000)"
   ]
  },
  {
   "cell_type": "code",
   "execution_count": 26,
   "metadata": {},
   "outputs": [],
   "source": [
    "unigramdataGet= word_vectorizer_uni.fit_transform(df['body'].astype('str'))\n",
    "unigramdataGet = unigramdataGet.toarray()\n",
    "vocab = word_vectorizer_uni.get_feature_names()\n",
    "unigramdata=pd.DataFrame(np.round(unigramdataGet, 1), columns=vocab)\n",
    "unigramdata[unigramdata>0] = 1"
   ]
  },
  {
   "cell_type": "code",
   "execution_count": 27,
   "metadata": {},
   "outputs": [],
   "source": [
    "X=unigramdata\n",
    "y=df['category']\n",
    "\n",
    "X_train, X_test, y_train, y_test = train_test_split(X, y, test_size=0.20, random_state=100)"
   ]
  },
  {
   "cell_type": "code",
   "execution_count": 28,
   "metadata": {},
   "outputs": [],
   "source": [
    "selector = SelectKBest(chi2, k=700)\n",
    "selector.fit(unigramdata, df['category'])\n",
    "\n",
    "unigramdata = selector.transform(unigramdata)"
   ]
  },
  {
   "cell_type": "code",
   "execution_count": 29,
   "metadata": {},
   "outputs": [
    {
     "name": "stdout",
     "output_type": "stream",
     "text": [
      "Accuracy score= 0.87\n"
     ]
    },
    {
     "name": "stderr",
     "output_type": "stream",
     "text": [
      "C:\\Users\\Laptop\\anaconda3\\lib\\site-packages\\sklearn\\svm\\_base.py:976: ConvergenceWarning: Liblinear failed to converge, increase the number of iterations.\n",
      "  warnings.warn(\"Liblinear failed to converge, increase \"\n"
     ]
    }
   ],
   "source": [
    "svc=LinearSVC(C=1, max_iter=500)\n",
    "svc= svc.fit(X_train , y_train)\n",
    "\n",
    "y_pred = svc.predict(X_test)\n",
    "dm=svc.score(X_test, y_test)\n",
    "print('Accuracy score= {:.2f}'.format(svc.score(X_test, y_test)))"
   ]
  },
  {
   "cell_type": "code",
   "execution_count": null,
   "metadata": {},
   "outputs": [],
   "source": []
  }
 ],
 "metadata": {
  "kernelspec": {
   "display_name": "Python 3",
   "language": "python",
   "name": "python3"
  },
  "language_info": {
   "codemirror_mode": {
    "name": "ipython",
    "version": 3
   },
   "file_extension": ".py",
   "mimetype": "text/x-python",
   "name": "python",
   "nbconvert_exporter": "python",
   "pygments_lexer": "ipython3",
   "version": "3.8.5"
  }
 },
 "nbformat": 4,
 "nbformat_minor": 4
}
